{
 "cells": [
  {
   "cell_type": "code",
   "execution_count": 19,
   "metadata": {},
   "outputs": [
    {
     "name": "stdout",
     "output_type": "stream",
     "text": [
      "<class 'list'>\n",
      "<class 'tuple'>\n",
      "<class 'set'>\n",
      "<class 'dict'>\n"
     ]
    }
   ],
   "source": [
    "di_inputs = ('di1', 'di2', 'di3', 'di4', 'di5', 'di6', 'di7', 'di8')\n",
    "\n",
    "charm_baseplate = ['di1', 'di2', 'di3', 'ai1', 'ai2', 'ao1', 'do1']\n",
    "\n",
    "vendors = {'Yokogawa', 'Siemens', 'Emerson', 'Shneider Electric'}\n",
    "\n",
    "contries_vendors = {\n",
    "    'USA': 'Emerson',\n",
    "    'Germany': 'Siemens',\n",
    "    'Japan': 'Yokpgawa',\n",
    "    'France': 'Shneider Electric'\n",
    "}\n",
    "\n",
    "print(type(charm_baseplate))\n",
    "print(type(di_inputs))\n",
    "print(type(vendors))\n",
    "print(type(contries_vendors))"
   ]
  }
 ],
 "metadata": {
  "kernelspec": {
   "display_name": "Python 3.10.7 64-bit",
   "language": "python",
   "name": "python3"
  },
  "language_info": {
   "codemirror_mode": {
    "name": "ipython",
    "version": 3
   },
   "file_extension": ".py",
   "mimetype": "text/x-python",
   "name": "python",
   "nbconvert_exporter": "python",
   "pygments_lexer": "ipython3",
   "version": "3.10.7"
  },
  "orig_nbformat": 4,
  "vscode": {
   "interpreter": {
    "hash": "28e3bd56ac4b2ed5b8eee6c663aa2c7d819947656df7fce813bd9cb454b0fd6f"
   }
  }
 },
 "nbformat": 4,
 "nbformat_minor": 2
}
