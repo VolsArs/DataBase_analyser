{
 "cells": [
  {
   "cell_type": "code",
   "execution_count": 9,
   "metadata": {},
   "outputs": [
    {
     "name": "stdout",
     "output_type": "stream",
     "text": [
      "Ваш логин сохранен.\n",
      "qreyetrprt\n"
     ]
    }
   ],
   "source": [
    "\n",
    "#username = \"\"\n",
    "  # имя метода через нижнее подчеркивание согласно PEP8\n",
    "def choose_username():\n",
    "\t# объявляется переменная с модификатором global\n",
    "\tglobal username\n",
    "\tusername = input(\"Введите логин: \")\n",
    "\tif len(username) > 5:\n",
    "\t\tprint(\"Ваш логин сохранен.\")\n",
    "\telse:\n",
    "\t\tprint(\"Пожалуйста, выберите имя пользователя длиной более пяти символов.\")\n",
    "\t\tchoose_username()\n",
    "# имя метода через нижнее подчеркивание согласно PEP8\n",
    "def print_username():\n",
    "\tprint(username)\n",
    "\n",
    "    \n",
    "def main():\n",
    "\tchoose_username()\n",
    "\tprint_username()\n",
    "\n",
    "# обязательная строка для скрипта вызов метода main\n",
    "if __name__ == \"__main__\":\n",
    "\tmain()"
   ]
  }
 ],
 "metadata": {
  "kernelspec": {
   "display_name": "Python 3.10.7 64-bit",
   "language": "python",
   "name": "python3"
  },
  "language_info": {
   "name": "python",
   "version": "3.10.7"
  },
  "orig_nbformat": 4,
  "vscode": {
   "interpreter": {
    "hash": "28e3bd56ac4b2ed5b8eee6c663aa2c7d819947656df7fce813bd9cb454b0fd6f"
   }
  }
 },
 "nbformat": 4,
 "nbformat_minor": 2
}
