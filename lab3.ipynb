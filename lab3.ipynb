{
 "cells": [
  {
   "cell_type": "markdown",
   "metadata": {},
   "source": [
    "#markdown\n",
    "Задача нализ базы данных АСУТП. Файл представлен в формате *.mdb. В файле опиcаны все действия, события, алармы АСУТП с метками времени и другие данные.\n",
    "Необходимо определить: 1) Какие модули(Тег) генерируют алармы чаще других за исследуемый период времени. Позволит выявить слабые участки АСУТП\n",
    "                       2) Определение среднего колличества алармов в час и сколько алармов в час приходится на одного оператора\n",
    "                       3) Определение начала периода аларм флуда с какого аларма начался аларм флуд(аларм флуд период времени в который появляются новые алармы за период времени менее чем 30 сек. по сути аварийная ситуация)\n",
    "                       4) Опеределение модулей которые чаще всего генерируют события. Позволит проанализировать конфигурацию АСУТП на предмет бесполезных событий и разгрузить базу данных.\n",
    "\n",
    "Приложение будет с графическим интерфейсом для удобства пользователя. Пользователю будет предложено выбрать файл с базой данных расположенном на жестком диске. Результаты работы программы будет выводится в текстовое поле. Запускать различные функции программы пользователь сможет с помощью кнопок расположенных в основном окне программы.\n",
    "\n",
    "Архитектура приложения (предположительно): создается модуль для подключению к базе данных так как использовать подключение и обработку запросов будут выполнять разные функции. В основном файле программы будет создан графический интерфейс, модуль с подключением к базе данных импортируется в основной файл. Логика работы программы будет находится в основм файле программы.\n",
    "                       \n"
   ]
  },
  {
   "cell_type": "code",
   "execution_count": 63,
   "metadata": {},
   "outputs": [],
   "source": [
    "# класс родитель\n",
    "\n",
    "class Controller:\n",
    "    # функция инициализации\n",
    "    def __init__(self, model, inputs, vendor_name) -> None:\n",
    "        self.model = model\n",
    "        self.inputs = inputs\n",
    "        self.vendor_name = vendor_name\n",
    "\n",
    "    # функция иметации работы контроллера\n",
    "    def process_control(self) -> str:\n",
    "        return 'Ведется управление процессом'\n",
    "\n",
    "# Дочерний класс\n",
    "class SiemensController(Controller):\n",
    "    def __init__(self, model, inputs, vendor_name) -> None:\n",
    "        super().__init__(model, inputs, vendor_name)\n",
    "\n",
    "    def process_control(self) -> str:\n",
    "        return 'Ведется управление процессом контроллером Siemens'\n",
    "\n",
    "    def __str__(self) -> str:\n",
    "       # f'a {self.color} car'\n",
    "        return f'SiemensController{ self.model,  self.inputs,  self.vendor_name}'\n",
    "\n",
    "    def __repr__(self) -> str:\n",
    "        return f'SiemensController(model={self.model}, inputs={self.inputs} , vendor_name={self.vendor_name})'\n",
    "    # позволяет использовать экземпляр класса как функцию\n",
    "    def __call__(self, model):\n",
    "        self.model = model \n"
   ]
  },
  {
   "cell_type": "code",
   "execution_count": 65,
   "metadata": {},
   "outputs": [
    {
     "name": "stdout",
     "output_type": "stream",
     "text": [
      "<bound method SiemensController.__str__ of SiemensController(model=s1500, inputs=('di1', 'di2', 'di3', 'di4') , vendor_name=Siemens)>\n",
      "<bound method SiemensController.__repr__ of SiemensController(model=s1500, inputs=('di1', 'di2', 'di3', 'di4') , vendor_name=Siemens)>\n",
      "SiemensController('s1500', ('di1', 'di2', 'di3', 'di4'), 'Siemens')\n",
      "callabe True\n",
      "SiemensController('delta', ('di1', 'di2', 'di3', 'di4'), 'Siemens')\n"
     ]
    }
   ],
   "source": [
    "    # создание экземпляра контроллера Сименс\n",
    "sc = SiemensController('s1500', ('di1', 'di2', 'di3', 'di4'), 'Siemens')\n",
    "print(sc.__str__)\n",
    "print(sc.__repr__)\n",
    "print(sc)\n",
    "print('callabe', callable(sc))\n",
    "sc('delta')\n",
    "print(sc)\n"
   ]
  }
 ],
 "metadata": {
  "kernelspec": {
   "display_name": "Python 3.10.7 64-bit",
   "language": "python",
   "name": "python3"
  },
  "language_info": {
   "codemirror_mode": {
    "name": "ipython",
    "version": 3
   },
   "file_extension": ".py",
   "mimetype": "text/x-python",
   "name": "python",
   "nbconvert_exporter": "python",
   "pygments_lexer": "ipython3",
   "version": "3.10.7"
  },
  "orig_nbformat": 4,
  "vscode": {
   "interpreter": {
    "hash": "28e3bd56ac4b2ed5b8eee6c663aa2c7d819947656df7fce813bd9cb454b0fd6f"
   }
  }
 },
 "nbformat": 4,
 "nbformat_minor": 2
}
